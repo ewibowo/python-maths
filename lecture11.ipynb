{
 "cells": [
  {
   "cell_type": "markdown",
   "metadata": {},
   "source": [
    "# Lecture 11: Adding more integration"
   ]
  },
  {
   "cell_type": "markdown",
   "metadata": {},
   "source": [
    "## Recap"
   ]
  },
  {
   "cell_type": "markdown",
   "metadata": {},
   "source": [
    "Last time we discussed the trapezoidal rule for numerical integration. \n",
    "\n",
    "We found that \n",
    "\n",
    "$$\n",
    "\\large \n",
    "\\int_{a}^{b} f(x) \\, \\mathrm{d} x \\ = \\ \\frac{1}{n}\\ \\left( \\ \\frac{f(x_{0}) + f(x_{n})}{2} \\ + \\  \\sum_{k=1}^{n-1}\\ f(x_{k}) \\ \\right) \\ + \\  \\mathcal{O}(n^{-2}) \\quad \\mathrm{as} \\quad  n \\ \\to \\ \\infty \n",
    "$$\n",
    "\n",
    "<br>\n",
    "\n",
    "The term $\\mathcal{O}(n^{-2})$ means\n",
    "\n",
    "<br>\n",
    "\n",
    "$$\n",
    "\\large\n",
    "\\lim_{n\\to \\infty} \\ n^{2}\\, \\left[ \\ \\int_{a}^{b} f(x) \\, \\mathrm{d} x - \\frac{1}{n}\\ \\left( \\ \\frac{f(x_{0}) + f(x_{n})}{2} \\ + \\  \\sum_{k=1}^{n-1}\\ f(x_{k}) \\ \\right) \\right] \\ = \\ \\textit{Constant}  \n",
    "$$\n",
    "\n",
    "<br>\n",
    "\n",
    "## Big *O*\n",
    "\n",
    "In fact, anything \n",
    "\n",
    "$$\n",
    "\\large X(n) \\ \\ = \\  \\ \\mathcal{O}(\\, Y(n)\\, )  \\quad \\mathrm{as} \\quad  n \\ \\to \\ \\infty \n",
    "$$\n",
    "\n",
    "means \n",
    "\n",
    "$$\n",
    "\\large\n",
    "\\lim_{n\\to \\infty} \\frac{|X(n)|}{|Y(n)|} \\ = \\ \\textit{Constant} \\ \\le \\ \\infty.\n",
    "$$\n",
    "\n",
    "\n",
    "<br>\n",
    "\n",
    "This is also the same as \n",
    "\n",
    "$$\n",
    "\\large X(n) \\ \\ \\sim \\  \\  Y(n)   \\quad \\mathrm{as} \\quad  n \\ \\to \\ \\infty. \n",
    "$$\n",
    "\n",
    "<br>\n",
    "\n",
    "\n",
    "\n",
    "Today, we're going to look at another way of approximating a function for integration."
   ]
  },
  {
   "cell_type": "markdown",
   "metadata": {},
   "source": [
    "## Simpson's rule: piecewise quadratic functions"
   ]
  },
  {
   "cell_type": "markdown",
   "metadata": {},
   "source": [
    "Rather than fitting $f(x)$ to a straight line $L(x)$, we can fit it to a quadratic function,\n",
    "\n",
    "$$\\large \n",
    "Q(x) = \\alpha\\,  x^2 + \\beta\\,  x + \\gamma.$$\n",
    "\n",
    "The fitting rules are \n",
    "\n",
    "$$\n",
    "\\large \n",
    "f(a) = Q(a),  \\quad \\quad f(b) = Q(b), \\quad \\quad f( m ) = Q(m) $$\n",
    "\n",
    "where \n",
    "\n",
    "$$\n",
    "\\large \n",
    "m \\ = \\ \\frac{a+b}{2}\n",
    "$$\n",
    "\n",
    "<br>\n",
    "\n",
    "We can solve for $\\alpha, \\beta, \\gamma$ in $Q(x)$. The algebra is a little messy, but it cleans up a bit\n",
    "\n",
    "<br>\n",
    "\n",
    "$$\n",
    "\\large \n",
    "Q(x) \\ = \\ \\frac{2(x-b)(x-m)}{(b-a)^{2}}\\ f(a) - 4\\ \\frac{(x-b)(x-a)}{{(b-a)^{2}}} \\ f(m) + \\frac{2(x-a) (x-m)}{{(b-a)^{2}}}  \\ f(b)\n",
    "$$\n",
    "\n",
    "<br>\n",
    "\n",
    "We can integrate the quadratic to get the approximate integral\n",
    "\n",
    "<br>\n",
    "\n",
    "$$\n",
    "\\large \n",
    "\\int_{a}^{b} Q(x) \\ \\mathrm{d} x \\ = \\ \\frac{b-a}{6}\\left(\\  f(a)  \\ +  \\ 4\\, f(m)  \\ +  \\ f(b)\\  \\right)\n",
    "$$"
   ]
  },
  {
   "cell_type": "markdown",
   "metadata": {},
   "source": [
    "## (Composite) Simpson's rule"
   ]
  },
  {
   "cell_type": "markdown",
   "metadata": {},
   "source": [
    "We can string together a bunch of Simpson's intervals and get a composite rule:\n",
    "\n",
    "<br>\n",
    "\n",
    "$$\n",
    "\\large\n",
    "\\int_{a}^{b} f(x) \\, \\mathrm{d} x \\ = \\ \\frac{h}{3}\\ \\left( \\ f(x_{0}) + f(x_{n}) \\ + \\  2\\sum_{k=1}^{n/2-1}\\ f(x_{2k}) + 4 \\sum_{k=1}^{n/2}\\ f(x_{2k-1}) \\ \\right) \\ + \\  \\mathcal{O}(n^{-4}) \\quad \\mathrm{as} \\quad  n \\ \\to \\ \\infty \n",
    "$$\n",
    "\n",
    "<br>\n",
    "\n",
    "Where\n",
    "\n",
    "$$\n",
    "\\large\n",
    "h \\ = \\ \\frac{b-a}{n}\n",
    "$$\n",
    "\n",
    "is the spacing between successive points.\n",
    "\n",
    "Note that single Simpson's rule requires **three** function evaluations and **two** intervals ($[a,m],[m,b]$) -- instead of two function evaluations for one interval $[a,b]$ for the trapezoidal rule. \n",
    "\n",
    "Therefore, \n",
    "\n",
    "<h3><center> For Simpson's Rule, the number of points must be odd; the number of intervals must be even.</center></h3>\n",
    "\n",
    "Be careful of the indexing choice! The number $n$ here is the number of *intervals* -- one less than the number of points."
   ]
  },
  {
   "cell_type": "markdown",
   "metadata": {},
   "source": [
    "## Simpson's vs. Trapezoid (blame Eric)"
   ]
  },
  {
   "cell_type": "markdown",
   "metadata": {},
   "source": [
    "<img src=\"https://frinkiac.com/meme/S03E12/872714.jpg?b64lines=VGhpcyBpc24ndCBzb21lIHNoYWR5IAppbnRlZ3JhdGlvbiBzY2hlbWUgeW91J3ZlIApiZWVuIGhlYXJpbmcgYWJvdXQ=\" width=\"400\" height=\"400\" />\n",
    "\n",
    "<img src=\"https://frinkiac.com/meme/S03E12/875417.jpg?b64lines=Tm8gc2lyLiBPdXIgbW9kZWwKaXMgdGhlIHRyYXBlem9pZCwKIHdpdGggZ3VhcmFudGVlZCAKMm5kIG9yZGVyIHJldHVybg==\" width=\"400\" height=\"400\" />\n",
    "\n",
    "([The skit](https://www.youtube.com/watch?v=uuVh36vQkSI))"
   ]
  },
  {
   "cell_type": "markdown",
   "metadata": {},
   "source": [
    "Let's get comparing!"
   ]
  },
  {
   "cell_type": "code",
   "execution_count": null,
   "metadata": {},
   "outputs": [],
   "source": [
    "import numpy as np\n",
    "import matplotlib.pyplot as plt\n",
    "%matplotlib inline\n",
    "\n",
    "\n",
    "# This grabs a Simpson's rule integrator from Scipy\n",
    "from scipy.integrate import simps as simp"
   ]
  },
  {
   "cell_type": "code",
   "execution_count": null,
   "metadata": {},
   "outputs": [],
   "source": [
    "def trap(y,x): \n",
    "    \"\"\"Integrate y values against x values using trapezoidal rule.\"\"\"\n",
    "    return (x[1]-x[0])*( 0.5*(y[0] + y[-1]) + np.sum(y[1:-1]) )\n",
    "            \n",
    "def g(n,parity): \n",
    "    if parity ==  'odd': parity = 1\n",
    "    if parity == 'even': parity = 0\n",
    "    return np.linspace(0,1,2*(n//2)+parity)\n",
    "\n",
    "def h(n): return 1/(2*(n//2))\n",
    "\n",
    "def Q(f,x):\n",
    "    \"\"\"A quadratic interpolation polynomial.\"\"\"\n",
    "    a, m, b = x[0], x[len(x)//2], x[-1]\n",
    "    \n",
    "    qa = 2*(m-x)*(b-x)/(b-a)**2\n",
    "    qm = 4*(x-a)*(b-x)/(b-a)**2\n",
    "    qb = 2*(x-a)*(x-m)/(b-a)**2\n",
    "    \n",
    "    return qa*f(a) + qm*f(m) + qb*f(b)\n",
    "    "
   ]
  },
  {
   "cell_type": "markdown",
   "metadata": {},
   "source": [
    "### Absolute error\n",
    "\n",
    "If we want to compare the size of two quantities $A \\approx B$, we can subtract them and take the absolute value.\n",
    "\n",
    "$$\n",
    "\\large | \\, A \\, - \\, B \\, | \\quad \\quad \\text{(absolute error)}\n",
    "$$\n",
    "\n",
    "This measure of error only make sense if $A$ and $B$ are close to 1.  But it doesn't work very well if $A$ and $B$ are small or large. For example, if\n",
    "\n",
    "$$\n",
    "\\large\n",
    "A \\ = \\ 10^{-4} \\quad \\text{and} \\quad B \\ = \\ 10^{-6} \\quad \\implies \\quad \\large | \\, A \\, - \\, B \\, | \\ \\approx \\ |\\, A \\, | \\ = \\ 10^{-4}\n",
    "$$\n",
    "\n",
    "These number are both small. The only thing that the absolute error tells us is that one of the numbers is small. Not how ***close*** they are to each other. In this example, these numbers are not close whatsoever. \n",
    "\n",
    "\n",
    "### Relative error\n",
    "\n",
    "I think you all probably know the solution in your head. The subtle aspect of the relative error is that we should think of one of the quantities as \"more correct\" than the other. The relative error is when we have some kind of ***benchmark***, $B$ and we have another quantity, $A$ that we want to compare, \n",
    "\n",
    "<br>\n",
    "\n",
    "$$\n",
    "\\large \\frac{| \\, A \\, - \\, B \\, |}{|\\,B\\,|} \\quad \\quad \\text{(relative error)}\n",
    "$$\n",
    "\n",
    "<br>\n",
    "\n",
    "In the above example, \n",
    "\n",
    "$$\n",
    "\\large\n",
    "A \\ = \\ 10^{-4} \\quad \\text{and} \\quad B \\ = \\ 10^{-6} \\quad \\implies \\quad \\large \\frac{| \\, A \\, - \\, B \\, |}{|\\,B\\,|} \\ \\approx \\ \\frac{|\\, A \\, |}{|\\,B\\,| } \\ = \\ 100\n",
    "$$\n",
    "\n",
    "\n",
    "<br> \n",
    "\n",
    "The relative error is what we should use when computing the accuracy of integrals.\n",
    "\n",
    "These are a few helper functions to make plots and such. "
   ]
  },
  {
   "cell_type": "code",
   "execution_count": null,
   "metadata": {},
   "outputs": [],
   "source": [
    "from helper import *"
   ]
  },
  {
   "cell_type": "code",
   "execution_count": null,
   "metadata": {},
   "outputs": [],
   "source": [
    "def errors(f,I,nmin=10,nmax=1000,even=False,style='log-log',powers={-2:'green',-4:'orange'}):\n",
    "    \"\"\"Calculate and plot errors of trapezoidal and Simpson's rule.\"\"\"\n",
    "    \n",
    "    n = np.arange(nmin+(nmin%2)+1,nmax,2) # odd numbers only\n",
    "    \n",
    "    error_Trap, error_Simp = np.zeros(len(n)), np.zeros(len(n))\n",
    "    \n",
    "    if even: error_Simp_even = np.zeros(len(n))\n",
    "    \n",
    "    for k in range(len(n)):\n",
    "        \n",
    "        x = g(n[k],'odd')\n",
    "        \n",
    "        T = trap(f(x),x)\n",
    "        S = simp(f(x),x)\n",
    "\n",
    "        error_Trap[k] = err(T,I)\n",
    "        error_Simp[k] = err(S,I)\n",
    "        \n",
    "        if even:\n",
    "            x = g(n[k],'even')\n",
    "            S_even = simp(f(x),x)\n",
    "            error_Simp_even[k] = err(S_even,I)\n",
    "\n",
    "        \n",
    "    show = show_plots(style=style,xy=['n','e(n)'],title='$|\\,approx.\\, -\\, exact\\,|\\,/\\,|\\,exact\\,|$')\n",
    "    \n",
    "    show(n,error_Trap,color='blue')\n",
    "    show(n,error_Simp,color='red')\n",
    "    \n",
    "    if style == 'log-log': \n",
    "        for p in powers: show(n,1.5*n**float(p),color=powers[p])\n",
    "    \n",
    "    if even:\n",
    "        show(n,error_Simp_even,color='black')\n",
    "        if style == 'log-log': show(n,2.0*n**(-3.),color='grey')\n",
    "    \n",
    "    return show\n",
    "    "
   ]
  },
  {
   "cell_type": "markdown",
   "metadata": {},
   "source": [
    "Like last time, start with \n",
    "\n",
    "$$\n",
    "\\large\n",
    "f(x) = \\frac{x}{\\sqrt{2}} \\  + \\ \\frac{1}{5} \\,\\sin( \\, 9\\, x \\, ). $$\n",
    "\n",
    "With \n",
    "\n",
    "$$\n",
    "\\large\n",
    "\\int_{0}^{1} \\, f(x) \\, \\mathrm{d} x \\ = \\ \\frac{1}{180} \\left(4+45 \\sqrt{2}-4 \\cos (9)\\right) \\ \\approx \\ 0.396023\n",
    "$$"
   ]
  },
  {
   "cell_type": "code",
   "execution_count": null,
   "metadata": {},
   "outputs": [],
   "source": [
    "def f(x): return np.sqrt(0.5)*x + 0.2*np.sin(9*x)\n",
    "\n",
    "I = (4 + 45*np.sqrt(2) - 4*np.cos(9))/180\n",
    "\n",
    "def q(x): return Q(f,x)"
   ]
  },
  {
   "cell_type": "markdown",
   "metadata": {},
   "source": [
    "Let's plot Simpson's approximation, and highlight the different intervals:"
   ]
  },
  {
   "cell_type": "code",
   "execution_count": null,
   "metadata": {},
   "outputs": [],
   "source": [
    "n = 10\n",
    "\n",
    "show = show_plots(linewidth=3.5)\n",
    "x = np.linspace(0,1,101)\n",
    "show(x,f(x))\n",
    "\n",
    "for k in range(n):\n",
    "    interval = [k/n, (k+1)/n]\n",
    "    x = np.linspace(*interval,101)\n",
    "    show(x,q(x))\n",
    "# plot the interval points    \n",
    "points = np.linspace(0,1,2*n+1)\n",
    "plt.plot(points,f(points),'k.',markersize=7);"
   ]
  },
  {
   "cell_type": "markdown",
   "metadata": {},
   "source": [
    "## Compare Trapezoidal, and Simpson's\n",
    "\n",
    "Let's look at the errors of the trapezoidal and Simpson's rule.\n",
    "\n",
    "This will loop over different values of $n$ and make a log-log plot of the errors for both methods.\n",
    "\n",
    "It's important to mention that I used an ***odd*** number of grid points, and an ***even*** number of intervals. Otherwise, Simpson's rule doesn't work very well."
   ]
  },
  {
   "cell_type": "code",
   "execution_count": null,
   "metadata": {},
   "outputs": [],
   "source": [
    "show = errors(f,I);\n",
    "show['Trap.$\\,\\sim n^{-2}$','Simp.$\\,\\sim n^{-4}$']"
   ]
  },
  {
   "cell_type": "markdown",
   "metadata": {},
   "source": [
    "### Even-number Simpson's?\n",
    "\n",
    "Last time, I messed up the trapezoidal rule by not taking care of the endpoints properly. This made $\\mathcal{O}(n^{-2})$ error become $\\mathcal{O}(n^{-1})$. \n",
    "\n",
    "What if we use an ***even*** number of grid points, and an ***odd*** number of intervals?"
   ]
  },
  {
   "cell_type": "code",
   "execution_count": null,
   "metadata": {},
   "outputs": [],
   "source": [
    "show = errors(f,I,even=True);\n",
    "show['Trap.$\\,\\sim n^{-2}$','Simp(even).$\\,\\sim n^{-3}$','Simp(odd).$\\,\\sim n^{-4}$']"
   ]
  },
  {
   "cell_type": "markdown",
   "metadata": {},
   "source": [
    "So the trapezoidal rule is second order, and Simpson's rule is 4th order!\n",
    "\n",
    "Is this always the case?"
   ]
  },
  {
   "cell_type": "markdown",
   "metadata": {},
   "source": [
    "### Periodic function\n",
    "\n",
    "Last time, we saw something funny when we tried periodic functions.\n",
    "Let's use\n",
    "\n",
    "$$\n",
    "\\large\n",
    "f(x) \\ = \\ \\frac{1}{2} \\ + \\  \\frac{3}{10 \\, + \\, 8 \\cos (\\, 2 \\, \\pi \\, x ) }\n",
    "$$\n",
    "\n",
    "since\n",
    "\n",
    "$$\n",
    "\\large\n",
    "\\int_{0}^{1} \\, f(x) \\, \\mathrm{d} x \\ = \\ 1\n",
    "$$\n"
   ]
  },
  {
   "cell_type": "code",
   "execution_count": null,
   "metadata": {},
   "outputs": [],
   "source": [
    "def f(x): return 0.5 + 3/(8*np.cos(2*np.pi*x) + 10)\n",
    "\n",
    "def q(x): return Q(f,x)"
   ]
  },
  {
   "cell_type": "code",
   "execution_count": null,
   "metadata": {},
   "outputs": [],
   "source": [
    "n = 15\n",
    "\n",
    "x = np.linspace(0,1,101)\n",
    "show = show_plots()\n",
    "show(x,f(x),color='blue')\n",
    "\n",
    "for k in range(n):\n",
    "    x = np.linspace(k/n,(k+1)/n,101)\n",
    "    show(x,q(x),color='red')\n",
    "    \n",
    "points = np.linspace(0,1,2*n+1)\n",
    "plt.plot(points,f(points),'k.',markersize=10)    "
   ]
  },
  {
   "cell_type": "markdown",
   "metadata": {},
   "source": [
    "### Compare Simpson's and Trapezoidal rule for a periodic function"
   ]
  },
  {
   "cell_type": "code",
   "execution_count": null,
   "metadata": {},
   "outputs": [],
   "source": [
    "show = errors(f,1,style='log',nmax=50);\n",
    "show['Trap. $\\,\\sim \\, 2^{-n}$','Simp. $\\,\\sim \\, \\sqrt{2}^{-n}$']\n",
    "\n",
    "n = np.arange(10,50,2)\n",
    "show(n,2.0**(-n))\n",
    "show(n,2.0**(-n//2))"
   ]
  },
  {
   "cell_type": "markdown",
   "metadata": {},
   "source": [
    "# Summary so far:\n",
    "\n",
    "## For most functions:\n",
    "\n",
    "###  $\\quad $    Trapezoidal rule: error $\\sim n^{-2}$\n",
    "\n",
    "###  $\\quad $    Simpson's rule: error $\\sim n^{-4}$\n",
    "\n",
    "\n",
    "## For *periodic* functions:\n",
    "\n",
    "###  $\\quad $    Trapezoidal rule: error $\\sim \\tau^{-n}$\n",
    "\n",
    "###  $\\quad $    Simpson's rule: error $\\sim \\sigma^{-n}$\n",
    "\n",
    "###  $\\quad $    We don't usually know $\\tau$, $\\sigma$  ahead of time. But we can expect $\\sigma \\ \\approx \\sqrt{\\tau}$.\n"
   ]
  },
  {
   "cell_type": "markdown",
   "metadata": {},
   "source": [
    "## List slices\n",
    "\n",
    "In the composite Simpson's rule, we want to treat the endpoints, even indices, and odd indices differently.\n",
    "How can we extract these things efficiently?\n",
    "By **slicing**!\n",
    "\n",
    "When you see something like `[a:b:c]` at the end of a list (or array, or anything that can be iterated, really) it's called a `slice`, ([see here](https://stackoverflow.com/questions/509211/understanding-pythons-slice-notation)) and takes the form:\n",
    "\n",
    "    [start:stop:step]\n",
    "\n",
    "It takes all the elements from index `start`, \n",
    "up to and not including index `stop`,\n",
    "in steps of `step`. \n",
    "Some important points:\n",
    "\n",
    "- A negative `stop` counts backwards from the end position. \n",
    "- A negative `step` takes steps backward.\n",
    "- Omitting `start` will begin from 0.\n",
    "- Omitting `end` will continue until the list ends.\n",
    "- Omitting `step` will take a step of 1.\n",
    "\n",
    "Test it out on the list `[0,1,2,3,4,5]` if you're not sure."
   ]
  },
  {
   "cell_type": "code",
   "execution_count": 9,
   "metadata": {},
   "outputs": [
    {
     "name": "stdout",
     "output_type": "stream",
     "text": [
      "x:\n",
      "[0, 1, 2, 3, 4, 5]\n",
      "\n",
      "The following should give the same thing for s = 1,2,3:\n",
      "\n",
      "x[0:len(x):s]: \n",
      "[0, 1, 2, 3, 4, 5]\n",
      "[0, 2, 4]\n",
      "[0, 3]\n",
      "\n",
      "x[0::s]: \n",
      "[0, 1, 2, 3, 4, 5]\n",
      "[0, 2, 4]\n",
      "[0, 3]\n",
      "\n",
      "The following should give the same thing for s = 1,2,3:\n",
      "\n",
      "x[0:len(x)-1:s]: \n",
      "[0, 1, 2, 3, 4]\n",
      "[0, 2, 4]\n",
      "[0, 3]\n",
      "\n",
      "x[0:-1:s]:\n",
      "[0, 1, 2, 3, 4]\n",
      "[0, 2, 4]\n",
      "[0, 3]\n"
     ]
    }
   ],
   "source": [
    "x = list(range(6))\n",
    "print('x:')\n",
    "print(x)\n",
    "print('')\n",
    "\n",
    "print('The following should give the same thing for s = 1,2,3:')\n",
    "print('')\n",
    "print('x[0:len(x):s]: ')\n",
    "for s in range(1,4): print(x[0:len(x):s])\n",
    "    \n",
    "print('')\n",
    "print('x[0::s]: ')\n",
    "for s in range(1,4): print(x[0::s])\n",
    "\n",
    "print('')\n",
    "print('The following should give the same thing for s = 1,2,3:')\n",
    "print('')\n",
    "print('x[0:len(x)-1:s]: ')\n",
    "for s in range(1,4): print(x[0:len(x)-1:s])\n",
    "\n",
    "print('')\n",
    "print('x[0:-1:s]:')\n",
    "for s in range(1,4): print(x[0:-1:s])"
   ]
  },
  {
   "cell_type": "markdown",
   "metadata": {},
   "source": [
    "## DYI Simspon's rule (with slicing)"
   ]
  },
  {
   "cell_type": "code",
   "execution_count": 10,
   "metadata": {},
   "outputs": [],
   "source": [
    "def simp(y, x):\n",
    "    n = len(x) - 1\n",
    "    h = (x[-1] - x[0])/n\n",
    "    odds  = y[1::2]\n",
    "    evens = y[2:-1:2]\n",
    "    return (h/3)*(y[0]+y[-1] + 4*np.sum(odds) + 2*np.sum(evens))"
   ]
  },
  {
   "cell_type": "markdown",
   "metadata": {},
   "source": [
    "## Approximating polynomials"
   ]
  },
  {
   "cell_type": "markdown",
   "metadata": {},
   "source": [
    "An obvious, and important, `class` of functions to consider is the class of powers of $x$:\n",
    "\n",
    "$$\n",
    "\\large\n",
    "f(x) \\ = \\ x^{p}, \\quad \\text{where} \\quad  p > -1.\n",
    "$$\n",
    "\n",
    "where \n",
    "\n",
    "\n",
    "$$\n",
    "\\large\n",
    "\\int_{0}^{1} f(x) \\, \\mathrm{d} x \\ =  \\  \\frac{1}{p+1}\n",
    "$$"
   ]
  },
  {
   "cell_type": "markdown",
   "metadata": {},
   "source": [
    "Taking the hint from above,\n",
    "and recalling our object oriented programming from previous lectures,\n",
    "using a `class` is a good way to define functions with a parameter. \n",
    "The `class` consists of all functions of a given form. \n",
    "An `object` is a particular one of those functions. "
   ]
  },
  {
   "cell_type": "code",
   "execution_count": null,
   "metadata": {},
   "outputs": [],
   "source": [
    "class power():\n",
    "    \n",
    "    def __init__(self,p):\n",
    "        self.p = p\n",
    "\n",
    "    def __call__(self,x):\n",
    "        return x**self.p\n",
    "    \n",
    "    def __str__(self):\n",
    "        if self.p == 1: return 'x'\n",
    "        if type(self.p)==int: return 'x^{{{:d}}}'.format(self.p)\n",
    "        else: return 'x^{{{:.2f}}}'.format(self.p)\n",
    "    \n",
    "    def area(self,a=0,b=1):\n",
    "        q = self.p + 1\n",
    "        return (b**q - a**q)/q\n",
    "\n",
    "    def show(self,a=0,b=1,n=2000):\n",
    "        x = np.linspace(a,b,n)\n",
    "        y = self(x)\n",
    "        S = show_plots(title='$f(x) \\, = \\, x^{%s}$'% self.p,titlesize=20,xy=['x','y'])\n",
    "        S(x,y,color='blue')\n",
    "        return S\n",
    "    \n",
    "    def q(self, x):\n",
    "        return Q(self, x)"
   ]
  },
  {
   "cell_type": "markdown",
   "metadata": {},
   "source": [
    "There are some convenient methods to make nice plots.\n",
    "\n",
    "Let's use them!"
   ]
  },
  {
   "cell_type": "markdown",
   "metadata": {},
   "source": [
    "### Example 1: Line"
   ]
  },
  {
   "cell_type": "markdown",
   "metadata": {},
   "source": [
    "Well if we can't do this properly, we're in trouble"
   ]
  },
  {
   "cell_type": "code",
   "execution_count": null,
   "metadata": {},
   "outputs": [],
   "source": [
    "n = 2\n",
    "\n",
    "f = power(1)\n",
    "show = f.show()\n",
    "for k in range(n):\n",
    "    x = np.linspace(k/n,(k+1)/n,101)\n",
    "    plt.plot(x,f.q(x),color='green',linewidth=3)\n",
    "\n",
    "points = np.linspace(0,1,2*n+1)\n",
    "\n",
    "plt.plot(points,f(points),linewidth=3,color='red')    \n",
    "plt.plot(points,f(points),'k.')"
   ]
  },
  {
   "cell_type": "markdown",
   "metadata": {},
   "source": [
    "Because we're returning the initial plot from `self.show`, \n",
    "we can add things to it later:"
   ]
  },
  {
   "cell_type": "code",
   "execution_count": null,
   "metadata": {},
   "outputs": [],
   "source": [
    "show = errors(f,f.area());\n",
    "show['Trap.$\\,\\sim ??$','Simp.$\\,\\sim ??$']"
   ]
  },
  {
   "cell_type": "markdown",
   "metadata": {},
   "source": [
    "OK, well that was a bit silly - of course a line can fit a line, and a parabola can too (it's degenerate now).\n",
    "But we know that our functions are behaving correctly.\n",
    "\n",
    "What about a parabola?"
   ]
  },
  {
   "cell_type": "markdown",
   "metadata": {},
   "source": [
    "### Example 2: A parabola"
   ]
  },
  {
   "cell_type": "markdown",
   "metadata": {},
   "source": [
    "This defines $f(x) = x^{2}$. "
   ]
  },
  {
   "cell_type": "code",
   "execution_count": null,
   "metadata": {},
   "outputs": [],
   "source": [
    "n = 3\n",
    "\n",
    "f = power(2)\n",
    "\n",
    "show = f.show()\n",
    "\n",
    "for k in range(n):\n",
    "    x = np.linspace(k/n,(k+1)/n,101)\n",
    "    plt.plot(x,f.q(x),color='green',linewidth=3)\n",
    "\n",
    "points = np.linspace(0,1,2*n+1)\n",
    "\n",
    "plt.plot(points,f(points),linewidth=3,color='red')    \n",
    "plt.plot(points,f(points),'k.')"
   ]
  },
  {
   "cell_type": "code",
   "execution_count": null,
   "metadata": {},
   "outputs": [],
   "source": [
    "show = errors(f,f.area());\n",
    "show['Trap.$\\,\\sim n^{-2}$','Simp.$\\,\\sim ??$']"
   ]
  },
  {
   "cell_type": "markdown",
   "metadata": {},
   "source": [
    "Well, that was boring.\n",
    "No surprise that a quadratic function can exactly approximate a parabola.\n",
    "\n",
    "The trapezoidal rule is back to our guaranteed second order convergence."
   ]
  },
  {
   "cell_type": "markdown",
   "metadata": {},
   "source": [
    "### Example 3: A cubic"
   ]
  },
  {
   "cell_type": "markdown",
   "metadata": {},
   "source": [
    "Well, I guess we know what's going to happen for $x^3$."
   ]
  },
  {
   "cell_type": "code",
   "execution_count": null,
   "metadata": {},
   "outputs": [],
   "source": [
    "n = 1\n",
    "\n",
    "f = power(3)\n",
    "\n",
    "show = f.show()\n",
    "\n",
    "for k in range(n):\n",
    "    x = np.linspace(k/n,(k+1)/n,101)\n",
    "    plt.plot(x,f.q(x),color='green',linewidth=3)\n",
    "\n",
    "points = np.linspace(0,1,2*n+1)\n",
    "\n",
    "plt.plot(points,f(points),linewidth=3,color='red')    \n",
    "plt.plot(points,f(points),'k.')"
   ]
  },
  {
   "cell_type": "code",
   "execution_count": null,
   "metadata": {},
   "outputs": [],
   "source": [
    "show = errors(f,f.area());\n",
    "show['Trap.$\\,\\sim n^{-2}$','Simp.$\\,\\sim ??$']"
   ]
  },
  {
   "cell_type": "markdown",
   "metadata": {},
   "source": [
    "Eh?\n",
    "\n",
    "Even though a parabola doesn't exactly approximate a cubic - Simpson's method gives the exact answer for the integral!\n",
    "\n",
    "**Why?!**"
   ]
  },
  {
   "cell_type": "markdown",
   "metadata": {},
   "source": [
    "### Example 4: A quartic"
   ]
  },
  {
   "cell_type": "markdown",
   "metadata": {},
   "source": [
    "Well, what about $x^4$?"
   ]
  },
  {
   "cell_type": "code",
   "execution_count": null,
   "metadata": {},
   "outputs": [],
   "source": [
    "n = 1\n",
    "\n",
    "f = power(4)\n",
    "\n",
    "show = f.show()\n",
    "\n",
    "for k in range(n):\n",
    "    x = np.linspace(k/n,(k+1)/n,101)\n",
    "    plt.plot(x,f.q(x),color='green',linewidth=3)\n",
    "\n",
    "points = np.linspace(0,1,2*n+1)\n",
    "\n",
    "plt.plot(points,f(points),linewidth=3,color='red')    \n",
    "plt.plot(points,f(points),'k.')"
   ]
  },
  {
   "cell_type": "code",
   "execution_count": null,
   "metadata": {},
   "outputs": [],
   "source": [
    "show = errors(f,f.area());\n",
    "show['Trap.$\\,\\sim n^{-2}$','Simp.$\\,\\sim n^{-4}$']"
   ]
  },
  {
   "cell_type": "markdown",
   "metadata": {},
   "source": [
    "OK, that's a bit more expected. Our expected second order trapezoidal rule, and fourth order Simpson's rule.\n",
    "\n",
    "But is the salesman genuine?\n",
    "Are we *guaranteed* at least second and fourth order convergence?\n",
    "\n",
    "<img src=\"https://frinkiac.com/meme/S03E12/876668.jpg?b64lines=\" width=\"500\" height=\"400\" />\n"
   ]
  },
  {
   "cell_type": "markdown",
   "metadata": {},
   "source": [
    "### Example 1/2: A square root"
   ]
  },
  {
   "cell_type": "markdown",
   "metadata": {
    "collapsed": true
   },
   "source": [
    "Let's look at $f(x) = \\sqrt{x}$. \n",
    "It's a simple enough function to want to approximate."
   ]
  },
  {
   "cell_type": "code",
   "execution_count": null,
   "metadata": {},
   "outputs": [],
   "source": [
    "n = 4\n",
    "\n",
    "f = power(1/2)\n",
    "\n",
    "show = f.show()\n",
    "\n",
    "for k in range(n):\n",
    "    x = np.linspace(k/n,(k+1)/n,101)\n",
    "    plt.plot(x,f.q(x),color='green',linewidth=3)\n",
    "\n",
    "points = np.linspace(0,1,2*n+1)\n",
    "\n",
    "plt.plot(points,f(points),linewidth=3,color='red')    \n",
    "plt.plot(points,f(points),'k.')"
   ]
  },
  {
   "cell_type": "markdown",
   "metadata": {},
   "source": [
    "Hmm, doesn't look great around $x = 0$..."
   ]
  },
  {
   "cell_type": "code",
   "execution_count": null,
   "metadata": {},
   "outputs": [],
   "source": [
    "show = errors(f,f.area(),powers={-1.5:'green'});\n",
    "show['Trap.$\\,\\sim n^{-3/2}$','Simp.$\\,\\sim n^{-3/2}$']"
   ]
  },
  {
   "cell_type": "markdown",
   "metadata": {},
   "source": [
    "<img src=\"https://frinkiac.com/meme/S03E12/873332.jpg?b64lines=\" width=\"500\" height=\"400\" />\n",
    "\n",
    "<img src=\"https://frinkiac.com/img/S03E12/883559.jpg\" width=\"500\" height=\"400\" />\n",
    "\n",
    "He lied!"
   ]
  },
  {
   "cell_type": "markdown",
   "metadata": {},
   "source": [
    "Well, what convergence *are* we getting?"
   ]
  },
  {
   "cell_type": "markdown",
   "metadata": {},
   "source": [
    "Why are we only getting $n^{-1.5}$ convergence!"
   ]
  },
  {
   "cell_type": "markdown",
   "metadata": {},
   "source": [
    "### Example 1/10: A tenth root?"
   ]
  },
  {
   "cell_type": "code",
   "execution_count": null,
   "metadata": {},
   "outputs": [],
   "source": [
    "n = 4\n",
    "\n",
    "f = power(1/10)\n",
    "\n",
    "show = f.show()\n",
    "\n",
    "for k in range(n):\n",
    "    x = np.linspace(k/n,(k+1)/n,101)\n",
    "    plt.plot(x,f.q(x),color='green',linewidth=3)\n",
    "\n",
    "points = np.linspace(0,1,2*n+1)\n",
    "\n",
    "plt.plot(points,f(points),linewidth=3,color='red')    \n",
    "plt.plot(points,f(points),'k.')"
   ]
  },
  {
   "cell_type": "code",
   "execution_count": null,
   "metadata": {},
   "outputs": [],
   "source": [
    "show = errors(f,f.area(),powers={-11/10:'green'});\n",
    "show['Trap.$\\,\\sim n^{-11/10}$','Simp.$\\,\\sim n^{-11/10}$']"
   ]
  },
  {
   "cell_type": "markdown",
   "metadata": {
    "collapsed": true
   },
   "source": [
    "Well there's definitely a pattern going on here.\n",
    "\n",
    "Now, this is a mathematical computing course - so we need to be understand how to examine these things theoretically too.\n",
    "\n",
    "### For $ p < 1 $, both the Trapezoidal and Simpson's rule give the same error scaling:\n",
    "\n",
    "$$\n",
    "\\Large \\text{error} \\ \\sim \\ n^{- (1+p)}\n",
    "$$\n",
    " \n",
    "Therefore \n",
    "\n",
    "$$\\large p=\\frac{1}{10}   \\quad \\implies \\quad n^{-\\tfrac{3}{2}}, \\quad \\quad \\quad \\quad \\quad p=\\frac{1}{2}  \\quad \\implies \\quad n^{-\\tfrac{11}{10}}$$. \n"
   ]
  },
  {
   "cell_type": "code",
   "execution_count": null,
   "metadata": {},
   "outputs": [],
   "source": []
  }
 ],
 "metadata": {
  "kernelspec": {
   "display_name": "Python 3",
   "language": "python",
   "name": "python3"
  },
  "language_info": {
   "codemirror_mode": {
    "name": "ipython",
    "version": 3
   },
   "file_extension": ".py",
   "mimetype": "text/x-python",
   "name": "python",
   "nbconvert_exporter": "python",
   "pygments_lexer": "ipython3",
   "version": "3.7.1"
  },
  "toc": {
   "nav_menu": {},
   "number_sections": false,
   "sideBar": true,
   "skip_h1_title": false,
   "title_cell": "Table of Contents",
   "title_sidebar": "Contents",
   "toc_cell": false,
   "toc_position": {
    "height": "calc(100% - 180px)",
    "left": "10px",
    "top": "150px",
    "width": "237px"
   },
   "toc_section_display": "block",
   "toc_window_display": true
  }
 },
 "nbformat": 4,
 "nbformat_minor": 2
}
