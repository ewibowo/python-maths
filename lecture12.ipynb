{
 "cells": [
  {
   "cell_type": "markdown",
   "metadata": {},
   "source": [
    "# Lecture 12: Integrating iterated integration (Bernoulli Polynomials)"
   ]
  },
  {
   "cell_type": "markdown",
   "metadata": {},
   "source": [
    "## Aim of today"
   ]
  },
  {
   "cell_type": "markdown",
   "metadata": {},
   "source": [
    "So far, this course has really focused on developing coding literacy through basic mathematical concepts."
   ]
  },
  {
   "cell_type": "markdown",
   "metadata": {},
   "source": [
    "However, that's not all this course is!\n",
    "This is a *mathematical* computing course,\n",
    "so you need to learn both mathematical and computing techniques.\n",
    "\n",
    "I want to acknowledge this because, this is a very broad church.\n",
    "As well as both advanced and normal streams,\n",
    "different students will be more or less familiar with the mathematical content,\n",
    "or the programming content (or neither!).\n",
    "\n",
    "This lecture is going to bring back the emphasis to mathematical techniques.\n",
    "To give it all away, today we will:\n",
    "\n",
    " - Define the error of an integration scheme.\n",
    " \n",
    " \n",
    " - Try investigating it with **integration by parts**.\n",
    " \n",
    " \n",
    " - Explore where that approach takes us (it's mathy and great, and illustrates how people actually find things out).\n",
    " \n",
    " \n",
    " - Using our `Rational` and `Polynomial` classes to help us.\n",
    " \n",
    " \n",
    "Then, tomorrow we'll continue on this path and really answer why different integration schemes have different accuracy in different situations.\n"
   ]
  },
  {
   "cell_type": "markdown",
   "metadata": {},
   "source": [
    "## Recap on L10 and L11"
   ]
  },
  {
   "cell_type": "markdown",
   "metadata": {},
   "source": [
    "### Approximate functions"
   ]
  },
  {
   "cell_type": "markdown",
   "metadata": {},
   "source": [
    "We are interested in computing the following integral:\n",
    "\n",
    "$$\n",
    "\\large \n",
    "I \\ = \\  \\int_{a}^{b}  f(x) \\, \\mathrm{d}x \n",
    "$$\n",
    "\n",
    "For either the trapezoidal rule, or Simpson's rule, we approximate $f(x)$ by either a linear function (more properly called  an *'affine'* function), $L(x)$, or a quadratic function, $Q(x)$.\n",
    "For the linear approximation $L$, we require\n",
    "\n",
    "<br>\n",
    "\n",
    "$$\n",
    "\\large \n",
    "L(a) \\ = \\ f(a), \\quad L(b) \\ = \\ f(b)$$\n",
    "\n",
    "and for the quadratic approximation $Q$ we require\n",
    "\n",
    "<br>\n",
    "\n",
    "$$\\large \n",
    "Q(a) \\ =  \\ f(a), \\quad Q(b) \\  = \\ f(b), \\quad Q(m) \\ = \\ f(m) $$\n",
    "\n",
    "<br>\n",
    "\n",
    "Either way, they are the same at the end points, $a,b$.  "
   ]
  },
  {
   "cell_type": "markdown",
   "metadata": {},
   "source": [
    "## Exact integrals of approximate function"
   ]
  },
  {
   "cell_type": "markdown",
   "metadata": {},
   "source": [
    "The hope with these approximations is that they are close to the actual function,\n",
    "so that, *in some sense*\n",
    "\n",
    "<br>\n",
    "$$\n",
    "\\large\n",
    "f(x) \\approx L(x) , \\quad \\mathrm{or} \\quad\n",
    "f(x) \\approx Q(x),\n",
    "$$\n",
    "\n",
    "If that works, then it makes sense to expect \n",
    "\n",
    "**for the trapezoidal rule:**\n",
    "\n",
    "$$\n",
    "\\large\n",
    "\\int_{a}^{b} f(x) \\, \\mathrm{d}x \\ \\approx \\ \\int_{a}^{b} L(x) \\, \\mathrm{d}x  \\ = \\ h\\, \\frac{f(a)+f(b)}{2}\n",
    "$$\n",
    "\n",
    "or \n",
    "\n",
    "<br>\n",
    "\n",
    "**for Simpson's rule:**\n",
    "\n",
    "$$\n",
    "\\large\n",
    "\\int_{a}^{b} f(x) \\, \\mathrm{d}x \\ \\approx \\ \\int_{a}^{b} Q(x) \\, \\mathrm{d}x  \\ = \\ \\frac{h}{6}\\, (\\, f(a) \\ + 4\\, f(m) \\ + \\ f(b) \\, )$$\n",
    "\n",
    "where \n",
    "\n",
    "<br>\n",
    "$$\n",
    "\\large\n",
    "h \\ \\equiv \\ b- a , \\quad \\quad \\quad m \\ \\equiv \\ \\frac{b+a}{2}.\n",
    "$$"
   ]
  },
  {
   "cell_type": "markdown",
   "metadata": {},
   "source": [
    "## Important aside: Generalising"
   ]
  },
  {
   "cell_type": "markdown",
   "metadata": {},
   "source": [
    "Note that we could use a cubic, of quartic, or any other degree we like.\n",
    "But, as you can see, every added degree requires an additional condition to calculate all the coefficients.\n",
    "\n",
    "### How do we choose these conditions? \n",
    "\n",
    "What we are doing above is **interpolation**: \n",
    "forcing the approximation to agree with the function at certain locations.\n",
    "Hopefully, if the approximation agrees exactly at some points, \n",
    "then it won't get too bad between these points.\n",
    "\n",
    "But there are **other** very sensible choices for approximating a function:\n",
    "\n",
    "- maybe we want to minimise the *integral* of the difference.\n",
    "\n",
    "\n",
    "- maybe the integral of the *square* of the difference...\n",
    "\n",
    "\n",
    "- Heck, we might not even want to approximate the function with polynomials.\n",
    "\n",
    "Maybe there are different functions we like.\n",
    "\n",
    "There are lots of ways to approximate a function...\n",
    "\n",
    "Let's look at defining the error in a concrete sense.\n",
    "That way we can work with it."
   ]
  },
  {
   "cell_type": "markdown",
   "metadata": {},
   "source": [
    "## Measuring the error"
   ]
  },
  {
   "cell_type": "markdown",
   "metadata": {},
   "source": [
    "### Error function, $e(x)$"
   ]
  },
  {
   "cell_type": "markdown",
   "metadata": {},
   "source": [
    "(Not *The* error function).\n",
    "\n",
    "In either case, we want to estimate how big the difference is between the true integral, and the approximation.\n",
    "\n",
    "A sensible definition for the \"error\" function $e$ is: \n",
    "\n",
    "<br>\n",
    "$$\n",
    "\\large\n",
    "e(x) \\ = \\ f(x) - L(x), \\quad \\mathrm{or} \\quad e(x) \\ = \\  f(x) - Q(x) \n",
    "$$\n",
    "\n",
    "Again, by definition $e(a) = e(b)  = 0$. \n",
    "\n",
    "How can we use $e$ to quantify the error of of the integral of the function? "
   ]
  },
  {
   "cell_type": "markdown",
   "metadata": {},
   "source": [
    "### Error integral $\\mathcal{E}$"
   ]
  },
  {
   "cell_type": "markdown",
   "metadata": {},
   "source": [
    "We can compute the error between the integrals $\\mathcal{E}$ by computing the integral of the error $e$ between the functions (because integration is linear -- it splits over addition). Therefor we consider\n",
    "\n",
    "$$\n",
    "\\large\n",
    "\\mathcal{E} \\ \\equiv \\ \\int_{0}^{h} e(x) \\, \\mathrm{d}x \n",
    "$$\n",
    "\n",
    "<br>\n",
    "\n",
    "From now on we will assume $a=0$, and $b=h$;  this is without loss of generality. \n",
    "Now what do we do?"
   ]
  },
  {
   "cell_type": "markdown",
   "metadata": {},
   "source": [
    "### Integration by parts"
   ]
  },
  {
   "cell_type": "markdown",
   "metadata": {},
   "source": [
    "To analyse this, we want to use **integration by parts.** \n",
    "One of the top-three most useful techniques in the mathematical arsenal. \n",
    "\n",
    "For any two functions $u(x)$, and $v(x)$, \n",
    "\n",
    "$$\n",
    "\\large\n",
    "\\int_{a}^{b} u(x)\\, v'(x) \\, \\mathrm{d}x \\ = \\ u(b)\\,v(b) - u(a)\\,v(a) - \\int_{a}^{b} u'(x)\\, v(x) \\, \\mathrm{d}x\n",
    "$$\n",
    "\n",
    "The issue is that the integral $\\mathcal{E}$ only has one function, not two, and no functions with a derivative on acting on them. "
   ]
  },
  {
   "cell_type": "markdown",
   "metadata": {},
   "source": [
    "## Forcing a fit"
   ]
  },
  {
   "cell_type": "markdown",
   "metadata": {},
   "source": [
    "But we can fix this.  We do this by making a mathematical [Procrustean bed](https://en.wikipedia.org/wiki/Procrustes).\n",
    "\n",
    "Ten years from now, if you only remember one thing about this lecture, it should be this. The idea is we don't have something that will fit with integration by parts. So we *make* something that will fit with integration by parts."
   ]
  },
  {
   "cell_type": "markdown",
   "metadata": {},
   "source": [
    "### Multiply by 1 (one of the oldest tricks in the book)"
   ]
  },
  {
   "cell_type": "markdown",
   "metadata": {},
   "source": [
    "Put the number \"$1$\" into the integral. \n",
    "\n",
    "$$\n",
    "\\large\n",
    "\\mathcal{E} \\ \\equiv \\ \\int_{0}^{h} e(x) \\times 1  \\, \\mathrm{d}x \n",
    "$$\n",
    "\n",
    "<br>\n",
    "\n",
    "Then pretend that the number the number \"$1$\" is actually a function of $x/h$; it technically is. \n",
    "\n",
    "<br>\n",
    "\n",
    "\n",
    "$$\n",
    "\\large\n",
    "\\mathcal{E} \\ \\equiv \\ \\int_{0}^{h} e(x) \\ B_{0}(x/h) \\, \\mathrm{d}x \\quad \\quad \\text{where} \\quad \\quad B_{0}(x) \\ = \\ 1. \n",
    "$$\n",
    "\n",
    "<br>\n",
    "\n",
    "The reason for using the letter $B$ will become apparent later. For now, we just inserted a function into the integral. It's starting to look more ready for integration by parts. But we still don't have a derivative. Let's make one."
   ]
  },
  {
   "cell_type": "markdown",
   "metadata": {},
   "source": [
    "### Defining a derivative"
   ]
  },
  {
   "cell_type": "markdown",
   "metadata": {},
   "source": [
    "Define \n",
    "\n",
    "$$\n",
    "\\large\n",
    "\\frac{d}{dx} B_{1}(x) \\ = \\ B_{0}(x) \\quad \\implies \\quad B_{1}(x) = x + b_{1} \\quad \\text{for some constant,} \\quad b_{1}\n",
    "$$\n",
    "\n",
    "<br>\n",
    "\n",
    "From now on, we'll have *functions* $B_{n}(x)$, and *numbers* \n",
    "\n",
    "<br>\n",
    "\n",
    "$$\n",
    "\\large\n",
    "b_{n} \\ \\equiv \\ B_{n}(0)\n",
    "$$\n",
    "\n",
    "We don't know what these numbers should be yet. But we'll get there. \n",
    "\n",
    "\n",
    "Now things are looking a lot better for integration by parts\n",
    "\n",
    "$$\n",
    "\\large\n",
    "\\mathcal{E} \\ \\equiv \\ h\\, \\int_{0}^{h} e(x) \\ \\frac{d}{dx} B_{1}(x/h) \\, \\mathrm{d}x \n",
    "$$"
   ]
  },
  {
   "cell_type": "markdown",
   "metadata": {},
   "source": [
    "### Integrate by parts"
   ]
  },
  {
   "cell_type": "markdown",
   "metadata": {},
   "source": [
    "Let's integrate by parts. Using the formula,\n",
    "\n",
    "$$\n",
    "\\large\n",
    "\\mathcal{E} \\ \\equiv \\ h\\, \\left[ e(h)\\, (1+b_{1}) - e(0)\\, b_{1} \\right]  - h \\, \\int_{0}^{h} e'(x) \\  B_{1}(x/h) \\, \\mathrm{d}x \n",
    "$$\n",
    "\n",
    "But recall that \n",
    "\n",
    "$$\n",
    "\\large\n",
    "e(h) \\ = \\  e(0) \\ = \\ 0 \\quad   \\textit{by  design}. \n",
    "$$\n",
    "\n",
    "Recall that $e(x) = f(x) - L(x)$, or $e(x) = f(x) - Q(x)$, or a more general version of this.\n",
    "\n",
    "Therefore\n",
    "\n",
    "$$\n",
    "\\large\n",
    "\\mathcal{E} \\ = \\ - h \\, \\int_{0}^{h} e'(x) \\  B_{1}(x/h) \\, \\mathrm{d}x.\n",
    "$$\n",
    "\n",
    "\n",
    "\n",
    "\n",
    "\n",
    "\n"
   ]
  },
  {
   "cell_type": "markdown",
   "metadata": {},
   "source": [
    "## Cauchy-Schwarz inequality\n",
    "\n",
    "If we have the integral of the product of two functions we can make an inequality in terms of the square integral of each function. \n",
    "\n",
    "If \n",
    "\n",
    "$$\n",
    "\\large \n",
    "I \\ \\equiv \\ \\int_{a}^{b} f(x) g(x) \\, \\text{d} x \\quad \\quad\\implies \\quad \\quad |\\,I\\,| \\ \\le \\ \\sqrt{\\int_{a}^{b} f(x)^{2} \\, \\text{d} x} \\, \\times \\, \\sqrt{ \\int_{a}^{b} g(x)^{2} \\, \\text{d} x }\n",
    "$$\n",
    "\n",
    "\n",
    "## (1,$\\infty$) Holder inequality\n",
    "\n",
    "\n",
    "There is another really useful inequality that's even simpler, \n",
    "\n",
    "$$\n",
    "\\large \n",
    "I \\ \\equiv \\ \\int_{a}^{b} f(x) g(x) \\, \\text{d} x \\quad \\quad\\implies \\quad \\quad |\\,I\\,| \\ \\le \\  \\max_{a\\le x\\le b} |\\,f(x) \\, |  \\int_{a}^{b} |\\,g(x)\\,| \\, \\text{d} x \n",
    "$$\n",
    "\n",
    "<br>\n",
    "\n",
    "The general Holder has the above two inequalities as special cases. But these are plenty for what we need. "
   ]
  },
  {
   "cell_type": "markdown",
   "metadata": {},
   "source": [
    "## Choosing $b_1$: minimising our estimate."
   ]
  },
  {
   "cell_type": "markdown",
   "metadata": {},
   "source": [
    "This is for $B_{1}(x) = x + b_{1}$ with $b_{1}$ not known.  How do we pick $b_{1}$?  There are a lot of ways we could choose to pick $b_{1}$. No matter what we do, we want to make it so that $B_{1}(x)$ is a small as possible. Otherwise, we would be making the estimate of $\\mathcal{E}$ larger than it needs to be.  \n",
    "\n",
    "The Holder inequality:\n",
    "\n",
    "$$\n",
    "\\large\n",
    "|\\,\\mathcal{E}\\,| \\  \\  \\le  \\ \\  h \\, \\max_{0\\le x\\le h} |e'(x)|\\int_{0}^{h} |\\,B_{1}(x/h)\\,|\\, \\mathrm{d}x\n",
    "$$\n",
    "\n",
    "We have no power to control how big $ |e'(x)|$ is. But we haven't completely set $B_{1}(x)$. We can minimise the right hand side. \n",
    "\n",
    "### $L_1$ minimisation is hard! $L_{2}$ is much easier. \n",
    "\n",
    "Therefore using Cauchy-Schwartz \n",
    "\n",
    "$$\n",
    "\\large \n",
    "\\int_{0}^{h} |\\,B_{1}(x/h)\\,|\\, \\mathrm{d}x \\ \\le  \\ \\sqrt{\\int_{0}^{h} 1\\, \\mathrm{d}x} \\, \\sqrt{\\int_{0}^{h} B_{1}(x/h)^2\\, \\mathrm{d}x} \\ = \\ \\sqrt{ h \\, \\int_{0}^{h} B_{1}(x/h)^2\\, \\mathrm{d}x}\n",
    "$$\n",
    "\n",
    "\n",
    "<br>\n",
    "\n",
    "\n",
    "<h3><center> We finally have something useful that we can work with </center></h3>\n",
    "\n",
    "$$\n",
    "\\Large\n",
    "|\\,\\mathcal{E}\\,| \\  \\  \\le  \\ \\  h  \\, \\max_{0\\le x\\le h} |e'(x)|\\ \\sqrt{h \\int_{0}^{1} B_{1}(x)^2\\, \\mathrm{d}x } \n",
    "$$\n",
    "\n",
    "\n",
    "<h3><center> We can minimise the right-hand side. </center></h3>\n",
    "\n",
    "<br>\n",
    "\n",
    "Three equivalent options for setting $b_{1}$ are \n",
    "\n",
    "$$\n",
    "\\large\n",
    "{|}\\, B_{1}(1) \\, {|}  = {|} \\, B_{0}(0) \\, {|}\n",
    ", \\quad \\quad\n",
    "\\int_{0}^{1} B_{1}(x) \\, \\mathrm{d} x \\ = \\ 0, \\quad \\quad \\mathrm{or} \\quad \\int_{0}^{1} B_{1}(x)^{2} \\, \\mathrm{d} x \\ \\to \\ \\text{minimum}.\n",
    "$$\n",
    "\n",
    "Therefore \n",
    "\n",
    "$$\n",
    "\\large \n",
    "\\int_{0}^{1} B_{1}(x)^2\\, \\mathrm{d}x \\ = \\  \\int_{0}^{1} (x+b_{1})^2\\, \\mathrm{d}x \\ = \\ b_1^2+b_1+\\frac{1}{3}\n",
    "$$\n",
    "\n",
    "\n",
    "<br>\n",
    "\n",
    "Minimising gives\n",
    "\n",
    "$$\n",
    "\\large \n",
    "b_{1} \\ \\equiv \\ - \\frac{1}{2}.\n",
    "$$\n",
    "\n",
    "\n",
    "Therefore \n",
    "\n",
    "$$\n",
    "\\large\n",
    "B_{0}(x) \\ = \\ 1 \\quad \\quad B_{1}(x) \\ = \\ x \\, - \\, \\frac{1}{2}.\n",
    "$$\n",
    "\n",
    "<br>\n",
    "\n",
    "\n",
    "$$\n",
    "\\Large\n",
    "|\\,\\mathcal{E}\\,| \\  \\  \\le  \\ \\  \\frac{h^{2}}{\\sqrt{12}}  \\, \\max_{0\\le x\\le h} |e'(x)|\n",
    "$$\n",
    "\n",
    "<h2><center> This is our first *estimate* for how big the integration error is. </center></h2>"
   ]
  },
  {
   "cell_type": "markdown",
   "metadata": {},
   "source": [
    "### Let's keep going...  Integrating again"
   ]
  },
  {
   "cell_type": "markdown",
   "metadata": {},
   "source": [
    "Like before, \n",
    "$$\n",
    "\\large\n",
    "B_{1}(x) \\ = \\ \\frac{1}{2} \\frac{d}{dx} \\left( x^{2} - x + b_{2} \\right) \\ = \\ \\frac{1}{2}\\frac{d}{dx} B_{2}(x)\n",
    "$$\n",
    "\n",
    "In the same way as $b_{1}$ we solve and find\n",
    "\n",
    "\n",
    "$$\n",
    "\\large\n",
    "b_{2} \\ = \\ \\frac{1}{6}, \\quad \\mathrm{and} \\quad B_{2} \\ = \\ x^{2} - x + \\frac{1}{6}\n",
    "$$\n",
    "\n",
    "Therefore\n",
    "\n",
    "$$\n",
    "\\large\n",
    "\\mathcal{E} \\ = \\ - \\frac{h^{2}}{2} \\, \\int_{0}^{h} e'(x) \\  \\frac{d}{dx} B_{2}(x/h) \\, \\mathrm{d}x.\n",
    "$$\n",
    "\n",
    "Using integration by parts and going to another,\n",
    "\n",
    "$$\n",
    "\\large\n",
    "\\mathcal{E} \\ = \\  - \\frac{h^{2} b_{2} }{2} \\left( e'(h) - e'(0) \\right)  \\ +  \\ \\frac{h^{3}}{3!} \\, \\int_{0}^{h} e''(x) \\  \\frac{d}{dx} B_{3}(x/h) \\, \\mathrm{d}x\n",
    "$$\n",
    "\n",
    "Where\n",
    "\n",
    "$$\n",
    "\\large\n",
    "b_{3} \\ = \\ 0, \\quad \\mathrm{and} \\quad B_{3}(x) \\ = \\ x^3-\\frac{3 x^2}{2}+\\frac{x}{2}\n",
    "$$\n",
    "\n",
    "Because $b_{3} \\ = \\ 0$, we have $B_3(0) \\ = \\ B_3(h/h) \\ = \\ 0$, so we can automatically go to another order in the integration by parts without getting a boundary term. \n",
    "\n",
    "$$\n",
    "\\large\n",
    "\\mathcal{E} \\ = \\  - \\frac{h^{2} b_{2} }{2} \\left( e'(h) - e'(0) \\right)  \\ -  \\ \\frac{h^{4}}{4!} \\, \\int_{0}^{h} e'''(x) \\  \\frac{d}{dx} B_{4}(x/h) \\, \\mathrm{d}x,\n",
    "$$\n",
    "\n",
    "where\n",
    "\n",
    "$$\n",
    "\\large\n",
    "b_{4} \\ = \\ -\\frac{1}{30}, \\quad \\mathrm{and} \\quad B_{4}(x) \\ = \\ x^4-2 x^3+x^2-\\frac{1}{30}\n",
    "$$\n",
    "\n",
    "Doing the iteration one more time, and using the actual values for $b_{2}$ and $b_{4}$,\n",
    "\n",
    "The is the first few terms of the "
   ]
  },
  {
   "cell_type": "markdown",
   "metadata": {},
   "source": [
    "# Euler-Maclaurin formula:"
   ]
  },
  {
   "cell_type": "markdown",
   "metadata": {},
   "source": [
    "\\begin{align}\n",
    "\\large\n",
    "    \\int_{0}^{h} f(x) \\, \\mathrm{d} x \\ &= \\ \\large \\frac{h}{2} \\left( \\ f(h) \\ + \\ f(0)\\ \\right)   - \\frac{h^{2}}{12} \\left(\\  f'(h) - f'(0) \\ \\right)  \\ +  \\ \\frac{h^{4}}{720}\\left( \\ f'''(h) - f'''(0) \\ \\right) \\\\ \n",
    "    & \\large \\quad - \\frac{h^{6}}{6!}\\int_{0}^{h} f^{\\,(5)}(x) \\  \\frac{d}{dx} B_{6}(x/h) \\, \\mathrm{d}x,\n",
    "\\end{align}\n",
    "\n",
    "<br>\n",
    "\n",
    "Integrating by parts to get here, we naturally introduced a set of polynomials. These polynomials have names and are very important for a lot of reasons."
   ]
  },
  {
   "cell_type": "markdown",
   "metadata": {},
   "source": [
    "## The sum of all the integers.\n",
    "\n",
    "Some of you may have heard the crazy notion that \n",
    "\n",
    "$$\n",
    "\\Large \\sum_{n=1}^{\\infty} n \\ = \\ - \\frac{1}{12}.\n",
    "$$\n",
    "\n",
    "\n",
    "You might also hear a lot of oogie-boogie about the \"deep nature of infinity\" and such and such surrounding this result. But it turns out that the sum of all the integers is \n",
    "\n",
    "* (a) Definitely infinity; and \n",
    "    \n",
    "\n",
    "\n",
    "* (b) There is a perfectly *common sense* argument that allows us to pretend that it's $-1/12$ in certain applications; no need even to appeal to fancy mathematics like the analytic continuation of the Riemann-$\\zeta$ function. \n",
    "\n",
    "Here is not the place to give a full discussion of this. But just so you know, there is no magic. To give an idea of what's going on.  It's a simple fact that\n",
    "\n",
    "<br>\n",
    "\n",
    "$$\n",
    "\\large\n",
    "\\sum_{n=1}^{\\infty} n\\, e^{- \\varepsilon n  } \\ = \\   \\frac{e^{-\\varepsilon\n",
    "   }}{\\left(1-e^{-\\varepsilon\n",
    "   }\\right)^2} \\ = \\  \\frac{1}{\\varepsilon^{2}}  -   \\frac{1}{12} +  \\frac{\\varepsilon ^2}{240}   \\ + \\    \\ldots  \\quad \\text{as} \\quad \\varepsilon \\to 0. \n",
    "$$\n",
    "\n",
    "This is the derivative of a geometric series in disguise; where $x = e^{- \\varepsilon }$. \n",
    "This says that this *convergent* sum has three parts: something tiny, something huge, and something modest. True applications that produce the first sumactually want something much more like the second sum. The thing that's a little magical is that real applications almost never care about the huge part, or the tiny part. The tiny part is tiny, and the huge part will always cancel in some cleaver way before we need answers. The modest part is all that's left over. The even cooler thing is that this idea stays the same if we change the function $e^{- \\varepsilon n  }$ to anything else that behaves in a similar way. The huge part will change a bit. But the modest part will always come out to $-1/12$. This is why we can just use $-1/12$ and call it a day. But doing this requires some care in making sure you don't violate any of the legal fine print that that validates the calculation. \n",
    "\n",
    "The Legal Fine Print relates back to a sligltly different version of the Euler---Maclaurin formula:\n",
    "\n",
    "<br>\n",
    "\n",
    "$$\\large\n",
    "\\sum_{n=0}^{\\infty} F(n)  \\ = \\  \\int_{0}^{\\infty} F(x) \\, \\text{d}x \\ + \\  \\frac{F(0)}{2}  \\ - \\  \\frac{F'(0)}{12} \\ + \\  \\frac{F'''(0)}{720} \\ + \\  \\ldots   \n",
    "$$\n",
    "\n",
    "The coefficients in the series are Bernoulli numbers divided by factorials; $b_{2k}/(2k)!$.\n",
    "We can get what we want by assuming \n",
    "\n",
    "<br>\n",
    "\n",
    "$$\\large\n",
    "F(n)  \\  = \\ n f(\\varepsilon n), \\quad \\text{where} \\quad f(0) = 1 \\quad \\text{and} \\quad \\lim_{x\\to \\infty} f(x) \\ = \\  0.\n",
    "$$\n",
    "\n",
    "The smooth function  $f(\\varepsilon n)$ acts as a cutoff when the terms get too big. We don't deserve to understand what happens at truely huge numbers; other effects will become important no matter what application we are considering. Cutoffs exist, but we don't know much about their details. Then \n",
    "\n",
    "<br>\n",
    "\n",
    "$$\\large\n",
    "\\sum_{n=0}^{\\infty} n\\, f(\\varepsilon n) \\ = \\ \\frac{\\int_{0}^{\\infty} x f(x) \\, \\text{d}x }{\\varepsilon^{2}} \\ - \\ \\frac{1}{12} \\ + \\ \\frac{\\varepsilon^{2} f''(0)}{240} \\ + \\ \\ldots \n",
    "$$\n",
    "\n",
    "<h3><center>This is true for any function where f(0) = 1, and vanishes at infinity.</center></h3>\n",
    "\n",
    "For $0 <  \\varepsilon \\ll 1$, the fist term is huge, the second term is what we want, and the third term (and neglected terms) are tiny.  \n",
    "\n",
    "In any application, the leading-order integral is dispatched in one of two ways:\n",
    "\n",
    "*  It cancels down the line in some way with another term just like it, and all that is left is the $-1/12$ plus a bunch of tiny stuff. \n",
    "\n",
    "\n",
    "\n",
    "* Or, it doesn't cancel. In this case, the details of our models depend on the details of the cutoff function, $f(x)$, but only in this minimal way. In the second case, we give a name to the integral divided by $\\varepsilon^{2}$ and use it as a parameter of our model. \n",
    "\n",
    "\n",
    "In any kind of model quantities are either discarded because they don't enter into our formulas, or they are given a name and measured because they do enter into our formulas."
   ]
  },
  {
   "cell_type": "markdown",
   "metadata": {},
   "source": [
    "## Bernoulli polynomials\n",
    "\n",
    "https://en.wikipedia.org/wiki/Bernoulli_polynomials"
   ]
  },
  {
   "cell_type": "markdown",
   "metadata": {},
   "source": [
    "## Bernoulli numbers\n",
    "\n",
    "https://en.wikipedia.org/wiki/Bernoulli_number"
   ]
  },
  {
   "cell_type": "markdown",
   "metadata": {},
   "source": [
    "<img src=\"https://upload.wikimedia.org/wikipedia/commons/1/19/Jakob_Bernoulli.jpg\" width=200>\n",
    "\n",
    "**They're kind of a big deal.**"
   ]
  },
  {
   "cell_type": "markdown",
   "metadata": {},
   "source": [
    "## Appell sequences\n",
    "\n",
    "\n",
    "### Monomials \n",
    "\n",
    "\n",
    "Define a fancy name for something that you see everyday.\n",
    "\n",
    "$$\n",
    "\\large M_{n}(x) \\ \\equiv \\ x^{n}.\n",
    "$$\n",
    "\n",
    "\n",
    "\n",
    "One of the simples features of monomials \n",
    "\n",
    "$$\n",
    "\\large\n",
    "\\frac{d}{dx}\\, x^{n} \\ = \\ n \\, x^{n-1} \\quad \\implies \\quad \\frac{d}{dx}\\, M_{n}(x) \\ = \\ n \\, M_{n-1}(x)\n",
    "$$\n",
    "\n",
    "If we think about this as a sequence of differential equations we can determine the monomials uniquely with the conditions \n",
    "\n",
    "$$\n",
    "\\large M_{0}(x)  \\ = \\ 1, \\quad \\quad \\text{and} \\quad \\quad M_{n}(0) \\ = \\ 0 \\quad \\text{for} \\quad n \\ \\ge \\ 1.\n",
    "$$\n",
    "\n",
    "This is likely one of the first things you learned in Calculus. \n",
    "\n",
    "\n",
    "\n",
    "### Bernoulli polynomials  \n",
    "\n",
    "\n",
    "The ***Bernoulli polynomials*** are defined almost the same way\n",
    "\n",
    "$$\n",
    "\\large \n",
    "\\frac{d}{dx}\\, B_{n}(x) \\ = \\ n \\, B_{n-1}(x)\n",
    "$$\n",
    "\n",
    "We set the constants at each iteration with \n",
    "\n",
    "$$\n",
    "\\large\n",
    "B_{0}(x) = 1, \\quad   \\quad  \\int_{0}^{1} B_{n}(x) \\, \\mathrm{d}x  \\ = \\ 0, \\quad \\mathrm{for} \\quad n \\ge 1. \n",
    "$$\n",
    "\n",
    "We can use these definitions to find a relation for the Bernoulli numbers,\n",
    "\n",
    "$$\n",
    "\\large\n",
    "b_{n} \\ = \\ n \\,\\int_{0}^{1}x\\, B_{n-1}(x)\\, \\mathrm{d} x \\ = \\ B_{n}(0).\n",
    "$$\n",
    "\n",
    "\n",
    "\n",
    "### Hermite polynomials  \n",
    "\n",
    "There is at least one important sequence of polynomials that satisfy a similar chain of differentiation \n",
    "\n",
    "$$\\large\n",
    "\\frac{d}{dx} H\\!e_{n}(x) \\ = \\ n \\, H\\!e_{n-1}(x)\n",
    "$$\n",
    "\n",
    "**Note:** These are defined in terms of what Physicists usally call Hermite polynomials via $H\\!e(x) = H(x/2)$. \n",
    "\n",
    "These satisfy the relations \n",
    "\n",
    "$$\\large\n",
    "H\\!e_{0}(x) \\ = \\ 1, \\quad   \\quad  \\frac{1}{\\sqrt{4\\pi}}\\int_{-\\infty}^{\\infty} e^{-\\frac{x^{2}}{4}} H\\!e_{n}(x) \\, \\mathrm{d}x  \\ = \\ 0, \\quad \\mathrm{for} \\quad n \\ge 1. \n",
    "$$\n",
    "\n",
    "\n",
    "The resulting sequence of numbers that result from this case are the ***Hermite numbers***\n",
    "\n",
    "$$\n",
    "\\large\n",
    "h_{n} \\ = \\ H\\!e_{n}(0) \\ = \\ -2 (n-1) \\, h_{n-2}, \\quad \\text{where} \\quad h_{0} \\ = \\ 1, \\quad \\text{and} \\quad h_{1} \\ = \\ 1.\n",
    "$$\n",
    "\n",
    "\n",
    "### General cases \n",
    "\n",
    "Any sequence of polynomials that satisfy the relation \n",
    "\n",
    "$$\\large\n",
    "\\frac{d}{dx} p_{n}(x) \\ = \\ n \\, p_{n-1}(x) \\quad \\quad \\longleftrightarrow \\quad \\quad \\textit{Appell sequences}.\n",
    "$$\n",
    "\n",
    "This is just a name for something that pops up from time to time. But the interesting thing is that these sequences have useful properties in common.\n",
    "\n",
    "\n",
    "<h4><center> Taylor's Theorem and the  Euler-Maclaurin formula are only the first two examples of an infinity of similar theorems. </center></h4>\n",
    "\n"
   ]
  },
  {
   "cell_type": "markdown",
   "metadata": {},
   "source": [
    "### Some properties of Bernoulli polynomials and their cousins \n",
    "\n",
    "These polynomials and numbers have a huge number of remarkable properties. The polynomials and numbers show up in every branch of advanced mathematics; topology, algebraic geometry, combinatorics, probability, and more. They also show up in import areas of modern physics. They arise when trying to compute Feynman diagrams in quantum field theory and string theory.  \n",
    "\n",
    "\n",
    "### Generating functions\n",
    "\n",
    "Because of their similarity with monomials, they share a lot of similar properties. For example, Appell sequences have simple ***exponential generating functions***:\n",
    "\n",
    "$$\\large\n",
    "e^{t\\, x} \\ = \\ \\sum_{n=0}^{\\infty}\\  M_{n}(x)\\  \\frac{t^{n}}{n!}, \\quad \\quad  \\frac{t\\, e^{t\\, x}}{e^{t}-1} \\ = \\ \\sum_{n=0}^{\\infty}\\  B_{n}(x)\\  \\frac{t^{n}}{n!},  \\quad \\quad  e^{-t^2+t \\,x} \\ = \\ \\sum_{n=0}^{\\infty}\\  H\\!e_{n}(x)\\  \\frac{t^{n}}{n!} $$\n",
    "\n",
    "\n",
    "### Umbral calculus \n",
    "\n",
    "\n",
    "The traditional ***Binomial theorem*** gives \n",
    "\n",
    "$$ \\large\n",
    "(x+y)^{n} \\ = \\ \\sum_{k=0}^{n} \\binom{n}{k}\\  x^{k}\\ y^{n-k}, \\quad  \\implies \\quad  M_{n}(x+y) \\ = \\ \\sum_{k=0}^{n} \\binom{n}{k}\\  M_{k}(x)\\ M_{n-k}(y)\n",
    "$$\n",
    "\n",
    "\n",
    "Appell sequences also satisfy a kind of Binomial theorem,\n",
    "\n",
    "$$ \\large\n",
    "B_{n}(x+y) \\ = \\ \\sum_{k=0}^{n} \\binom{n}{k}\\  B_{k}(x)\\ M_{n-k}(y), \\quad  \\quad  H\\!e_{n}(x+y) \\ = \\ \\sum_{k=0}^{n}  \\binom{n}{k}\\  H\\!e_{k}(x)\\ M_{n-k}(y)$$\n",
    "\n",
    "One of my favorites is that they relate to the computation of the sums of powers of integers,\n",
    "\n",
    "<br>\n",
    "\n",
    "### Sums of integers\n",
    "\n",
    "$$ \\large\n",
    "\\sum_{k=1}^{n} k^{p} \\ = \\  \\int_{1}^{n+1}  B_{p}(x) \\, \\mathrm{d} x \\ = \\ \\frac{B_{p+1}(n) - b_{p+1}}{p+1} + n^{p} \n",
    "$$\n",
    "\n",
    "\n",
    "There are many more interesting properties of Bernoulli polynomials. They show up in geometry, combinatorics, algebra, everything. \n",
    "\n",
    "<br>"
   ]
  },
  {
   "cell_type": "markdown",
   "metadata": {},
   "source": [
    "## Investigating the `class` of polynomials"
   ]
  },
  {
   "cell_type": "markdown",
   "metadata": {},
   "source": [
    "Using the `classes` we created earlier in the semester, we can build and manipulate the Bernoulli (or any) polynomials:\n",
    "\n",
    "So we've made a rudimentary symbolic algebra package!\n",
    "Any time you plug something in to Mathematica and it seems like magic, remember that it's really not that different to what we've already done.\n",
    "\n",
    "You can access the polynomial and rational classes from this lecture to check your answers from the last tutorial.\n",
    "See if you notice anything to fix too!\n",
    "\n",
    "Let's see what happens"
   ]
  },
  {
   "cell_type": "code",
   "execution_count": 1,
   "metadata": {},
   "outputs": [],
   "source": [
    "from algebra import *\n",
    "\n",
    "import numpy as np\n",
    "import matplotlib.pyplot as plt\n",
    "%matplotlib inline"
   ]
  },
  {
   "cell_type": "markdown",
   "metadata": {},
   "source": [
    "Define the fundamental polynomials, $1$, and $x$."
   ]
  },
  {
   "cell_type": "code",
   "execution_count": 2,
   "metadata": {},
   "outputs": [
    {
     "data": {
      "text/markdown": [
       "$1$"
      ],
      "text/plain": [
       "<IPython.core.display.Markdown object>"
      ]
     },
     "metadata": {},
     "output_type": "display_data"
    },
    {
     "data": {
      "text/markdown": [
       "$x$"
      ],
      "text/plain": [
       "<IPython.core.display.Markdown object>"
      ]
     },
     "metadata": {},
     "output_type": "display_data"
    }
   ],
   "source": [
    "one = rational(1)\n",
    "I = Polynomial(one)\n",
    "I.show()\n",
    "\n",
    "X = Polynomial()\n",
    "X[1] = one\n",
    "X.show()"
   ]
  },
  {
   "cell_type": "markdown",
   "metadata": {},
   "source": [
    "We can take the derivative and integral"
   ]
  },
  {
   "cell_type": "code",
   "execution_count": 5,
   "metadata": {},
   "outputs": [
    {
     "data": {
      "text/markdown": [
       "$1$"
      ],
      "text/plain": [
       "<IPython.core.display.Markdown object>"
      ]
     },
     "metadata": {},
     "output_type": "display_data"
    },
    {
     "data": {
      "text/markdown": [
       "$\\frac{1}{2}x^{2}$"
      ],
      "text/plain": [
       "<IPython.core.display.Markdown object>"
      ]
     },
     "metadata": {},
     "output_type": "display_data"
    },
    {
     "data": {
      "text/plain": [
       "1/2"
      ]
     },
     "execution_count": 5,
     "metadata": {},
     "output_type": "execute_result"
    }
   ],
   "source": [
    "X.derivative().show()\n",
    "X.integral().show()\n",
    "X.integral(ab=[0,1])"
   ]
  },
  {
   "cell_type": "markdown",
   "metadata": {},
   "source": [
    "### Dictionaries of polynomial sequences "
   ]
  },
  {
   "cell_type": "code",
   "execution_count": 6,
   "metadata": {},
   "outputs": [],
   "source": [
    "B = {0:I}\n",
    "\n",
    "half = rational(1,2)\n",
    "B[1] = X - half\n",
    "\n",
    "\n",
    "# Dictoinary for the Bernoulli numbers\n",
    "b = {0:B[0](0),1:B[1](0)}"
   ]
  },
  {
   "cell_type": "code",
   "execution_count": 7,
   "metadata": {},
   "outputs": [
    {
     "data": {
      "text/markdown": [
       "$\\frac{1}{6} - x + x^{2}$"
      ],
      "text/plain": [
       "<IPython.core.display.Markdown object>"
      ]
     },
     "metadata": {},
     "output_type": "display_data"
    }
   ],
   "source": [
    "for k in range(2,100):\n",
    "    B[k]  = k*B[k-1].integral()\n",
    "    B[k] -=   B[k].integral(ab=[0,1])\n",
    "    b[k]  =   B[k](0)\n",
    "\n",
    "B[2].show()"
   ]
  },
  {
   "cell_type": "code",
   "execution_count": 8,
   "metadata": {},
   "outputs": [
    {
     "data": {
      "text/plain": [
       "-1/30"
      ]
     },
     "execution_count": 8,
     "metadata": {},
     "output_type": "execute_result"
    }
   ],
   "source": [
    "b[4]"
   ]
  },
  {
   "cell_type": "code",
   "execution_count": 9,
   "metadata": {},
   "outputs": [
    {
     "name": "stdout",
     "output_type": "stream",
     "text": [
      "\n"
     ]
    },
    {
     "data": {
      "text/markdown": [
       "$\\frac{5}{66} - \\frac{3}{2}x^{2} + 5\\,x^{4} - 7\\,x^{6} + \\frac{15}{2}x^{8} - 5\\,x^{9} + x^{10}$"
      ],
      "text/plain": [
       "<IPython.core.display.Markdown object>"
      ]
     },
     "metadata": {},
     "output_type": "display_data"
    },
    {
     "data": {
      "image/png": "[encoded data removed]",
      "text/plain": [
       "<Figure size 432x288 with 1 Axes>"
      ]
     },
     "metadata": {
      "needs_background": "light"
     },
     "output_type": "display_data"
    }
   ],
   "source": [
    "print('')\n",
    "B[10].show()\n",
    "B[10].plot(0,1,title='Bernoulli polynomial: $B_{10}(x)$')"
   ]
  },
  {
   "cell_type": "markdown",
   "metadata": {},
   "source": [
    "### First 7 polynomials"
   ]
  },
  {
   "cell_type": "code",
   "execution_count": 10,
   "metadata": {},
   "outputs": [
    {
     "data": {
      "text/markdown": [
       "$1$"
      ],
      "text/plain": [
       "<IPython.core.display.Markdown object>"
      ]
     },
     "metadata": {},
     "output_type": "display_data"
    },
    {
     "data": {
      "text/markdown": [
       "$-\\frac{1}{2} + x$"
      ],
      "text/plain": [
       "<IPython.core.display.Markdown object>"
      ]
     },
     "metadata": {},
     "output_type": "display_data"
    },
    {
     "data": {
      "text/markdown": [
       "$\\frac{1}{6} - x + x^{2}$"
      ],
      "text/plain": [
       "<IPython.core.display.Markdown object>"
      ]
     },
     "metadata": {},
     "output_type": "display_data"
    },
    {
     "data": {
      "text/markdown": [
       "$\\frac{1}{2}x - \\frac{3}{2}x^{2} + x^{3}$"
      ],
      "text/plain": [
       "<IPython.core.display.Markdown object>"
      ]
     },
     "metadata": {},
     "output_type": "display_data"
    },
    {
     "data": {
      "text/markdown": [
       "$-\\frac{1}{30} + x^{2} - 2\\,x^{3} + x^{4}$"
      ],
      "text/plain": [
       "<IPython.core.display.Markdown object>"
      ]
     },
     "metadata": {},
     "output_type": "display_data"
    },
    {
     "data": {
      "text/markdown": [
       "$-\\frac{1}{6}x + \\frac{5}{3}x^{3} - \\frac{5}{2}x^{4} + x^{5}$"
      ],
      "text/plain": [
       "<IPython.core.display.Markdown object>"
      ]
     },
     "metadata": {},
     "output_type": "display_data"
    },
    {
     "data": {
      "text/markdown": [
       "$\\frac{1}{42} - \\frac{1}{2}x^{2} + \\frac{5}{2}x^{4} - 3\\,x^{5} + x^{6}$"
      ],
      "text/plain": [
       "<IPython.core.display.Markdown object>"
      ]
     },
     "metadata": {},
     "output_type": "display_data"
    }
   ],
   "source": [
    "for n in range(0,7): B[n].show()"
   ]
  },
  {
   "cell_type": "markdown",
   "metadata": {},
   "source": [
    "### The first 50 Bernoulli numbers\n",
    "\n",
    "They get big fast"
   ]
  },
  {
   "cell_type": "code",
   "execution_count": 11,
   "metadata": {},
   "outputs": [
    {
     "name": "stdout",
     "output_type": "stream",
     "text": [
      " n     Bernouli number\n",
      "---    ---------------\n",
      " 0:  1.00e+00 = 1\n",
      " 1: -5.00e-01 = -1/2\n",
      " 2:  1.67e-01 = 1/6\n",
      " 3:  0.00e+00 = 0\n",
      " 4: -3.33e-02 = -1/30\n",
      " 5:  0.00e+00 = 0\n",
      " 6:  2.38e-02 = 1/42\n",
      " 7:  0.00e+00 = 0\n",
      " 8: -3.33e-02 = -1/30\n",
      " 9:  0.00e+00 = 0\n",
      "10:  7.58e-02 = 5/66\n",
      "11:  0.00e+00 = 0\n",
      "12: -2.53e-01 = -691/2730\n",
      "13:  0.00e+00 = 0\n",
      "14:  1.17e+00 = 7/6\n",
      "15:  0.00e+00 = 0\n",
      "16: -7.09e+00 = -3617/510\n",
      "17:  0.00e+00 = 0\n",
      "18:  5.50e+01 = 43867/798\n",
      "19:  0.00e+00 = 0\n",
      "20: -5.29e+02 = -174611/330\n",
      "21:  0.00e+00 = 0\n",
      "22:  6.19e+03 = 854513/138\n",
      "23:  0.00e+00 = 0\n",
      "24: -8.66e+04 = -236364091/2730\n",
      "25:  0.00e+00 = 0\n",
      "26:  1.43e+06 = 8553103/6\n",
      "27:  0.00e+00 = 0\n",
      "28: -2.73e+07 = -23749461029/870\n",
      "29:  0.00e+00 = 0\n",
      "30:  6.02e+08 = 8615841276005/14322\n",
      "31:  0.00e+00 = 0\n",
      "32: -1.51e+10 = -7709321041217/510\n",
      "33:  0.00e+00 = 0\n",
      "34:  4.30e+11 = 2577687858367/6\n",
      "35:  0.00e+00 = 0\n",
      "36: -1.37e+13 = -26315271553053477373/1919190\n",
      "37:  0.00e+00 = 0\n",
      "38:  4.88e+14 = 2929993913841559/6\n",
      "39:  0.00e+00 = 0\n",
      "40: -1.93e+16 = -261082718496449122051/13530\n",
      "41:  0.00e+00 = 0\n",
      "42:  8.42e+17 = 1520097643918070802691/1806\n",
      "43:  0.00e+00 = 0\n",
      "44: -4.03e+19 = -27833269579301024235023/690\n",
      "45:  0.00e+00 = 0\n",
      "46:  2.12e+21 = 596451111593912163277961/282\n",
      "47:  0.00e+00 = 0\n",
      "48: -1.21e+23 = -5609403368997817686249127547/46410\n",
      "49:  0.00e+00 = 0\n"
     ]
    }
   ],
   "source": [
    "print(' n     Bernouli number')\n",
    "print('---    ---------------')\n",
    "for n in range(0,50): print(\"{:>2d}: {:>9.2e} = {:>1s}\".format(n, float(b[n]), str(b[n])))"
   ]
  },
  {
   "cell_type": "markdown",
   "metadata": {},
   "source": [
    "Here is a simple check that one of the formulae gives the right result:\n",
    "\n",
    "$$\n",
    "\\large\n",
    "b_{n} \\ = \\ B_{n}(0) \\ = \\ n \\int_{0}^{1} B_{n-1}(x) \\, \\text{d} x\n",
    "$$"
   ]
  },
  {
   "cell_type": "code",
   "execution_count": 14,
   "metadata": {},
   "outputs": [
    {
     "name": "stdout",
     "output_type": "stream",
     "text": [
      "-3617/510\n",
      "-3617/510\n",
      "-3617/510\n"
     ]
    }
   ],
   "source": [
    "n = 16\n",
    "print(b[n])\n",
    "print(B[n](0))\n",
    "print(n*(X*B[n-1]).integral(ab=[0,1]) )"
   ]
  },
  {
   "cell_type": "markdown",
   "metadata": {},
   "source": [
    "Here are some plots of the fist few polynomials:"
   ]
  },
  {
   "cell_type": "code",
   "execution_count": 25,
   "metadata": {},
   "outputs": [
    {
     "data": {
      "text/markdown": [
       "$\\frac{1}{42} - \\frac{1}{2}x^{2} + \\frac{5}{2}x^{4} - 3\\,x^{5} + x^{6}$"
      ],
      "text/plain": [
       "<IPython.core.display.Markdown object>"
      ]
     },
     "metadata": {},
     "output_type": "display_data"
    },
    {
     "data": {
      "text/markdown": [
       "$\\frac{5}{66} - \\frac{3}{2}x^{2} + 5\\,x^{4} - 7\\,x^{6} + \\frac{15}{2}x^{8} - 5\\,x^{9} + x^{10}$"
      ],
      "text/plain": [
       "<IPython.core.display.Markdown object>"
      ]
     },
     "metadata": {},
     "output_type": "display_data"
    },
    {
     "data": {
      "text/markdown": [
       "$\\frac{7}{6} - \\frac{691}{30}x^{2} + \\frac{455}{6}x^{4} - \\frac{1001}{10}x^{6} + \\frac{143}{2}x^{8} - \\frac{1001}{30}x^{10} + \\frac{91}{6}x^{12} - 7\\,x^{13} + x^{14}$"
      ],
      "text/plain": [
       "<IPython.core.display.Markdown object>"
      ]
     },
     "metadata": {},
     "output_type": "display_data"
    }
   ],
   "source": [
    "B[6].show()\n",
    "B[10].show()\n",
    "B[14].show()"
   ]
  },
  {
   "cell_type": "code",
   "execution_count": 33,
   "metadata": {},
   "outputs": [
    {
     "data": {
      "image/png": "[encoded data removed]",
      "text/plain": [
       "<Figure size 432x288 with 1 Axes>"
      ]
     },
     "metadata": {
      "needs_background": "light"
     },
     "output_type": "display_data"
    }
   ],
   "source": [
    "n = 24\n",
    "B[n].plot(0,1,title='$B_{%s}$' % n)"
   ]
  },
  {
   "cell_type": "markdown",
   "metadata": {},
   "source": [
    "Perhaps you can see a pattern? Let's investigate:"
   ]
  },
  {
   "cell_type": "code",
   "execution_count": 34,
   "metadata": {},
   "outputs": [
    {
     "data": {
      "image/png": "[encoded data removed]",
      "text/plain": [
       "<Figure size 432x288 with 1 Axes>"
      ]
     },
     "metadata": {
      "needs_background": "light"
     },
     "output_type": "display_data"
    }
   ],
   "source": [
    "x = np.linspace(0,1,200)\n",
    "s, c = np.sin(2*np.pi*x), np.cos(2*np.pi*x)\n",
    "\n",
    "y10 = B[10](x)\n",
    "y10 /= max(y10)\n",
    "\n",
    "y11 = B[11](x)\n",
    "y11 /= max(y11)\n",
    "\n",
    "from helper import *\n",
    "\n",
    "show = show_plots(xy=['x',''],title='Bernoulli Polynomials vs. Sin/Cos')\n",
    "\n",
    "show(x,c,color='green')\n",
    "show(x,s,color='red')\n",
    "\n",
    "show(x,y10)\n",
    "show(x,y11)\n",
    "\n",
    "show['cos','sin','$\\hat{B}_{10}$','$\\hat{B}_{11}$']"
   ]
  },
  {
   "cell_type": "markdown",
   "metadata": {},
   "source": [
    "The polynomials converge to sine and/or cosine for large degree,\n",
    "\n",
    "$$\n",
    "\\large \n",
    "B_{n}(x) \\quad \\longrightarrow \\quad  \\frac{2 \\, n!}{(2\\pi)^{n}}\\ \\left[\\ cos \\left( 2 \\, \\pi\\,  x - \\frac{(n+2) \\,\\pi}{2} \\right) \\ + \\ \\mathcal{O}\\big(\\, 2^{-n}\\, \\big) \\ \\right], \\quad \\mathrm{as} \\quad n \\ \\to \\infty.\n",
    "$$"
   ]
  },
  {
   "cell_type": "markdown",
   "metadata": {},
   "source": [
    "It's easy to find interesting properties fo $B_{n}(x)$. "
   ]
  },
  {
   "cell_type": "markdown",
   "metadata": {},
   "source": [
    "What about \n",
    "$$\n",
    "\\large\n",
    "B_{n}(x+1) - B_{n}(x) \\quad ?\n",
    "$$"
   ]
  },
  {
   "cell_type": "code",
   "execution_count": 35,
   "metadata": {},
   "outputs": [
    {
     "data": {
      "text/markdown": [
       "$0$"
      ],
      "text/plain": [
       "<IPython.core.display.Markdown object>"
      ]
     },
     "metadata": {},
     "output_type": "display_data"
    },
    {
     "data": {
      "text/markdown": [
       "$1$"
      ],
      "text/plain": [
       "<IPython.core.display.Markdown object>"
      ]
     },
     "metadata": {},
     "output_type": "display_data"
    },
    {
     "data": {
      "text/markdown": [
       "$2\\,x$"
      ],
      "text/plain": [
       "<IPython.core.display.Markdown object>"
      ]
     },
     "metadata": {},
     "output_type": "display_data"
    },
    {
     "data": {
      "text/markdown": [
       "$3\\,x^{2}$"
      ],
      "text/plain": [
       "<IPython.core.display.Markdown object>"
      ]
     },
     "metadata": {},
     "output_type": "display_data"
    },
    {
     "data": {
      "text/markdown": [
       "$4\\,x^{3}$"
      ],
      "text/plain": [
       "<IPython.core.display.Markdown object>"
      ]
     },
     "metadata": {},
     "output_type": "display_data"
    },
    {
     "data": {
      "text/markdown": [
       "$5\\,x^{4}$"
      ],
      "text/plain": [
       "<IPython.core.display.Markdown object>"
      ]
     },
     "metadata": {},
     "output_type": "display_data"
    },
    {
     "data": {
      "text/markdown": [
       "$6\\,x^{5}$"
      ],
      "text/plain": [
       "<IPython.core.display.Markdown object>"
      ]
     },
     "metadata": {},
     "output_type": "display_data"
    },
    {
     "data": {
      "text/markdown": [
       "$7\\,x^{6}$"
      ],
      "text/plain": [
       "<IPython.core.display.Markdown object>"
      ]
     },
     "metadata": {},
     "output_type": "display_data"
    },
    {
     "data": {
      "text/markdown": [
       "$8\\,x^{7}$"
      ],
      "text/plain": [
       "<IPython.core.display.Markdown object>"
      ]
     },
     "metadata": {},
     "output_type": "display_data"
    },
    {
     "data": {
      "text/markdown": [
       "$9\\,x^{8}$"
      ],
      "text/plain": [
       "<IPython.core.display.Markdown object>"
      ]
     },
     "metadata": {},
     "output_type": "display_data"
    }
   ],
   "source": [
    "for n in range(10): (B[n](X+1) - B[n](X)).show()"
   ]
  },
  {
   "cell_type": "markdown",
   "metadata": {},
   "source": [
    "What about \n",
    "\n",
    "$$\n",
    "\\large\n",
    "\\frac{1}{p} \\sum_{k=0}^{p-1} B_{n}\\left( \\frac{\\,x+k\\,}{p} \\right) \\quad \\ = \\ \\quad ??\n",
    "$$"
   ]
  },
  {
   "cell_type": "code",
   "execution_count": null,
   "metadata": {},
   "outputs": [],
   "source": [
    "p = 10\n",
    "q = rational(1,p)\n",
    "\n",
    "n = 9 \n",
    "    \n",
    "Sum = 0*X\n",
    "\n",
    "for k in range(p): Sum = Sum + B[n](q*(X+k))\n",
    "\n",
    "Sum *= p**(n-1)\n",
    "\n",
    "Sum.show()\n",
    "\n",
    "B[n].show()\n"
   ]
  },
  {
   "cell_type": "markdown",
   "metadata": {},
   "source": [
    "$$\n",
    "\\large\n",
    "\\frac{1}{p} \\sum_{k=0}^{p-1} B_{n} \\left( \\frac{\\,x+k\\,}{p} \\right) \\quad \\ = \\ \\quad \\frac{1}{p^{n}} B_{n}(x)\n",
    "$$\n",
    "\n",
    "This is an ***eigenvalue*** relationship. It's also equivalent to the **Euler-Maclaurin formula.**\n",
    "\n",
    "Strangely, this relation is closely related to the ***bit-shift*** map that is mentioned in relation to the Logistic equation for $\\mu=4$. \n"
   ]
  },
  {
   "cell_type": "markdown",
   "metadata": {},
   "source": [
    "There are many more interesting things about Bernoulli polynomials."
   ]
  },
  {
   "cell_type": "code",
   "execution_count": null,
   "metadata": {},
   "outputs": [],
   "source": []
  }
 ],
 "metadata": {
  "kernelspec": {
   "display_name": "Python 3",
   "language": "python",
   "name": "python3"
  },
  "language_info": {
   "codemirror_mode": {
    "name": "ipython",
    "version": 3
   },
   "file_extension": ".py",
   "mimetype": "text/x-python",
   "name": "python",
   "nbconvert_exporter": "python",
   "pygments_lexer": "ipython3",
   "version": "3.7.2"
  },
  "toc": {
   "nav_menu": {},
   "number_sections": false,
   "sideBar": true,
   "skip_h1_title": false,
   "title_cell": "Table of Contents",
   "title_sidebar": "Contents",
   "toc_cell": false,
   "toc_position": {
    "height": "calc(100% - 180px)",
    "left": "10px",
    "top": "150px",
    "width": "242px"
   },
   "toc_section_display": "block",
   "toc_window_display": true
  }
 },
 "nbformat": 4,
 "nbformat_minor": 2
}
